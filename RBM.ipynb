{
  "nbformat": 4,
  "nbformat_minor": 0,
  "metadata": {
    "colab": {
      "name": "RBM.ipynb",
      "provenance": [],
      "collapsed_sections": [],
      "authorship_tag": "ABX9TyPlaUOQ1SYFodRQhRvCNnsK",
      "include_colab_link": true
    },
    "kernelspec": {
      "name": "python3",
      "display_name": "Python 3"
    },
    "language_info": {
      "name": "python"
    }
  },
  "cells": [
    {
      "cell_type": "markdown",
      "metadata": {
        "id": "view-in-github",
        "colab_type": "text"
      },
      "source": [
        "<a href=\"https://colab.research.google.com/github/SumathiGit/Python-World/blob/main/RBM.ipynb\" target=\"_parent\"><img src=\"https://colab.research.google.com/assets/colab-badge.svg\" alt=\"Open In Colab\"/></a>"
      ]
    },
    {
      "cell_type": "code",
      "metadata": {
        "id": "05SgRoCzKteX"
      },
      "source": [
        "import torch\n",
        "import torch.nn as nn\n",
        "import torch.optim as optim\n",
        "import torch.utils.data\n",
        "import torch.nn.parallel\n",
        "import numpy as np\n",
        "import pandas as pd\n",
        "from torch.autograd import Variable"
      ],
      "execution_count": 34,
      "outputs": []
    },
    {
      "cell_type": "code",
      "metadata": {
        "id": "lfyDSCSiK6uL"
      },
      "source": [
        "movies = pd.read_csv(\"data/movies.dat\", sep = '::', header = None, engine = 'python', encoding = 'latin-1')\n",
        "users = pd.read_csv(\"data/users.dat\", sep = '::', header = None, engine = 'python', encoding = 'latin-1')"
      ],
      "execution_count": 35,
      "outputs": []
    },
    {
      "cell_type": "code",
      "metadata": {
        "id": "pbRItvXbNEWA"
      },
      "source": [
        "ratings = pd.read_csv(\"data/ratings.dat\", sep = \"::::::\", header = None, engine = 'python')"
      ],
      "execution_count": 36,
      "outputs": []
    },
    {
      "cell_type": "code",
      "metadata": {
        "id": "pAq6tJMkPZhi"
      },
      "source": [
        "training_set = pd.read_csv(\"data/u1.base\", delimiter='\\t')\n",
        "training_set = np.array(training_set, dtype='int')"
      ],
      "execution_count": 37,
      "outputs": []
    },
    {
      "cell_type": "code",
      "metadata": {
        "id": "ScPgqo3sPpQq"
      },
      "source": [
        "testing_set = pd.read_csv(\"data/u1.test\", delimiter='\\t')\n",
        "testing_set = np.array(testing_set, dtype='int')"
      ],
      "execution_count": 38,
      "outputs": []
    },
    {
      "cell_type": "code",
      "metadata": {
        "id": "OiN3JD3HPvNT"
      },
      "source": [
        "#Getting the number of users and movies\n",
        "total_no_of_user = int(max(max(training_set[:,0]),max(testing_set[:,0])))\n",
        "total_no_of_movies = int(max(max(training_set[:,1]),max(testing_set[:,1])))"
      ],
      "execution_count": 39,
      "outputs": []
    },
    {
      "cell_type": "code",
      "metadata": {
        "id": "k5vH9FEbPvoK"
      },
      "source": [
        "#Converting the data ito matrix  with user and movies column\n",
        "def convert(data):\n",
        "    new_data = []\n",
        "    for user_id in range(1, total_no_of_user+1):\n",
        "        movie_ids = data[:,1][data[:,0] == user_id]\n",
        "        rating_ids = data[:,2][data[:,0] == user_id]\n",
        "        ratings = np.zeros(total_no_of_movies)\n",
        "        ratings[movie_ids -1] = rating_ids\n",
        "        new_data.append(list(ratings))\n",
        "    return new_data"
      ],
      "execution_count": 40,
      "outputs": []
    },
    {
      "cell_type": "code",
      "metadata": {
        "id": "GSUSLDLcPwCl"
      },
      "source": [
        "#So we get our training_set and testing_set in a list of list format (2dim)  \n",
        "training_set = convert(training_set)\n",
        "testing_set = convert(testing_set)"
      ],
      "execution_count": 41,
      "outputs": []
    },
    {
      "cell_type": "code",
      "metadata": {
        "colab": {
          "base_uri": "https://localhost:8080/"
        },
        "id": "pXMk2ndsP-n8",
        "outputId": "3388f25d-b309-4dae-e40a-61e9fc02fe2a"
      },
      "source": [
        "#now Convert them into torch Tensors\n",
        "training_set = torch.FloatTensor(training_set)\n",
        "testing_set = torch.FloatTensor(testing_set)\n",
        "\n",
        "print(testing_set.type)"
      ],
      "execution_count": 42,
      "outputs": [
        {
          "output_type": "stream",
          "text": [
            "<built-in method type of Tensor object at 0x7fc27d3b4050>\n"
          ],
          "name": "stdout"
        }
      ]
    },
    {
      "cell_type": "code",
      "metadata": {
        "colab": {
          "base_uri": "https://localhost:8080/"
        },
        "id": "SBUlmldzP_GC",
        "outputId": "969a49ee-9f95-4f20-8f82-858c3ee898ca"
      },
      "source": [
        "#Converting the rating into binary rating 1>like 0>dislike\n",
        "training_set[training_set == 0] = -1\n",
        "training_set[training_set == 1] = 0\n",
        "training_set[training_set == 2] = 0\n",
        "training_set[training_set >= 3] = 1\n",
        "\n",
        "testing_set[testing_set == 0] = -1\n",
        "testing_set[testing_set == 1] = 0\n",
        "testing_set[testing_set == 2] = 0\n",
        "testing_set[testing_set >= 3] = 1\n",
        "print(training_set.type)\n"
      ],
      "execution_count": 43,
      "outputs": [
        {
          "output_type": "stream",
          "text": [
            "<built-in method type of Tensor object at 0x7fc273f5b410>\n"
          ],
          "name": "stdout"
        }
      ]
    },
    {
      "cell_type": "code",
      "metadata": {
        "colab": {
          "base_uri": "https://localhost:8080/"
        },
        "id": "IREezqeGa6Wi",
        "outputId": "daa877f1-e070-4208-9533-43958b08771d"
      },
      "source": [
        "#Bernoulli example\n",
        "a = torch.empty(3, 3).uniform_(0, 1)  # generate a uniform random matrix with range [0, 1]\n",
        "a"
      ],
      "execution_count": 71,
      "outputs": [
        {
          "output_type": "execute_result",
          "data": {
            "text/plain": [
              "tensor([[0.0086, 0.5803, 0.4745],\n",
              "        [0.9648, 0.7528, 0.7471],\n",
              "        [0.4922, 0.0633, 0.3109]])"
            ]
          },
          "metadata": {
            "tags": []
          },
          "execution_count": 71
        }
      ]
    },
    {
      "cell_type": "code",
      "metadata": {
        "colab": {
          "base_uri": "https://localhost:8080/"
        },
        "id": "mFcveqDkcipZ",
        "outputId": "0fd22b94-ac3c-42be-8d26-c4de10bce9a5"
      },
      "source": [
        "print(a.type)"
      ],
      "execution_count": 72,
      "outputs": [
        {
          "output_type": "stream",
          "text": [
            "<built-in method type of Tensor object at 0x7fc273f28230>\n"
          ],
          "name": "stdout"
        }
      ]
    },
    {
      "cell_type": "code",
      "metadata": {
        "colab": {
          "base_uri": "https://localhost:8080/"
        },
        "id": "Q-qICWtQcGRL",
        "outputId": "a44d4291-bd2a-4635-ae20-6eef251db53a"
      },
      "source": [
        "torch.bernoulli(a)       #Draws a binary random number (0 or 1) for given random matrix."
      ],
      "execution_count": 77,
      "outputs": [
        {
          "output_type": "execute_result",
          "data": {
            "text/plain": [
              "tensor([[0., 1., 0.],\n",
              "        [1., 1., 1.],\n",
              "        [0., 0., 1.]])"
            ]
          },
          "metadata": {
            "tags": []
          },
          "execution_count": 77
        }
      ]
    },
    {
      "cell_type": "code",
      "metadata": {
        "id": "TNme3kIJP_dx"
      },
      "source": [
        "class RBM():\n",
        "    def __init__(self, input_nodes, hidden_nodes):      #Initialize by giving random weights for the input node >> training_set , hiddennode =100\n",
        "        self.weight = torch.randn(hidden_nodes, input_nodes)\n",
        "        self.hidden_bias = torch.randn(1, hidden_nodes)\n",
        "        self.input_bias = torch.randn(1, input_nodes)\n",
        "    \n",
        "    def sample_hidden(self, x):      #Visible nodes(Input layer)\n",
        "        wx = torch.mm(x, self.weight.t()) #First step is to multiply our randon weight with the input>x and then do a transpose for getting matrix form of output\n",
        "        activation = wx + self.hidden_bias.expand_as(wx) #input > Input * weight + bias\n",
        "        prob_hidden_given_visible = torch.sigmoid(activation)\n",
        "        return prob_hidden_given_visible, torch.bernoulli(prob_hidden_given_visible) #This code returns the bernoulli martx as well as sample\n",
        "    \n",
        "    def sample_input(self, y):       #visible nodes(Input layer)\n",
        "        wy = torch.mm(y, self.weight)\n",
        "        activation = wy + self.input_bias.expand_as(wy)\n",
        "        prob_visible_given_hidden = torch.sigmoid(activation)\n",
        "        return prob_visible_given_hidden, torch.bernoulli(prob_visible_given_hidden)\n",
        "    \n",
        "    def train(self, visible0, visiblek, probhidden0, prodhiddenk): #Passing the parameters to trsin th model\n",
        "        self.weight += (torch.mm(visible0.t(), probhidden0) - torch.mm(visiblek.t(), prodhiddenk)).t()\n",
        "        self.input_bias += torch.sum((visible0 - visiblek), 0)\n",
        "        self.hidden_bias += torch.sum((probhidden0 - prodhiddenk) , 0)\n",
        "        "
      ],
      "execution_count": 59,
      "outputs": []
    },
    {
      "cell_type": "code",
      "metadata": {
        "id": "OWcCbNHzQO4H"
      },
      "source": [
        "input_nodes = len(training_set[0])\n",
        "hidden_nodes = 100        #corelate the input and extract 100 features \n",
        "batch_size = 100\n",
        "rbm = RBM(input_nodes, hidden_nodes)"
      ],
      "execution_count": 60,
      "outputs": []
    },
    {
      "cell_type": "code",
      "metadata": {
        "colab": {
          "base_uri": "https://localhost:8080/"
        },
        "id": "uIjY32GXQPHg",
        "outputId": "b98a5b76-9348-4f9e-c6b2-15871e15fb97"
      },
      "source": [
        "epochs = 10\n",
        "for epoch in range(1, epochs +1):\n",
        "    train_loss = 0\n",
        "    s = 0. #Float will be used to normalize the loss\n",
        "    for user_id in range(0, total_no_of_user - batch_size , batch_size):\n",
        "        vk = training_set[user_id: user_id + batch_size]\n",
        "        v0 = training_set[user_id: user_id + batch_size]\n",
        "        ph0, _ = rbm.sample_hidden(v0) #visible node\n",
        "        for k in range(10):  #K steps of contrastive divergence >>  we have passed the input to a neuron or a feature.>> Then it gets an output then input and output is compared.\n",
        "            _,hk = rbm.sample_hidden(vk)\n",
        "            _,vk = rbm.sample_input(hk)\n",
        "            vk[v0 < 0] = v0[v0 < 0]\n",
        "        phk, _ = rbm.sample_hidden(vk) \n",
        "        rbm.train(v0, vk, ph0, phk)\n",
        "        train_loss += torch.mean(torch.abs(v0[v0>=0] - vk[v0>=0]))\n",
        "        s += 1.\n",
        "    print(\"epoch: \" +str(epoch)+\" loss: \" +str(train_loss/s))\n",
        "\n",
        "\n",
        "\n",
        "\n",
        "      #visible0 >> input vector containing the ratings of all the movies by one user \n",
        "      #visiblek >>visible node obtained after k iteration\n",
        "      #probhidden0 >> Vector probabilities that the first iteration >the hidden nodes equal one give the values\n",
        "      #probhiddenk >>probabilities of hidden node after k sample give the values of visible nodes\n",
        "\n"
      ],
      "execution_count": 78,
      "outputs": [
        {
          "output_type": "stream",
          "text": [
            "epoch: 1 loss: tensor(0.2466)\n",
            "epoch: 2 loss: tensor(0.2473)\n",
            "epoch: 3 loss: tensor(0.2469)\n",
            "epoch: 4 loss: tensor(0.2450)\n",
            "epoch: 5 loss: tensor(0.2458)\n",
            "epoch: 6 loss: tensor(0.2467)\n",
            "epoch: 7 loss: tensor(0.2469)\n",
            "epoch: 8 loss: tensor(0.2445)\n",
            "epoch: 9 loss: tensor(0.2464)\n",
            "epoch: 10 loss: tensor(0.2463)\n"
          ],
          "name": "stdout"
        }
      ]
    },
    {
      "cell_type": "code",
      "metadata": {
        "colab": {
          "base_uri": "https://localhost:8080/"
        },
        "id": "8rEc4lPhQPeH",
        "outputId": "660faacd-9b8e-412b-ca0d-25ca12fa99ad"
      },
      "source": [
        "#Testing the RBM\n",
        "\n",
        "test_loss = 0\n",
        "s=0. \n",
        "for id_user in range(total_no_of_user):    #Just passing the testing_Set\n",
        "  v = training_set[id_user:id_user+1]\n",
        "  vt = testing_set[id_user:id_user+1]\n",
        "  if len(vt[vt>=0]) > 0:\n",
        "    _,h =rbm.sample_hidden(v)\n",
        "    _,v = rbm.sample_input(h)\n",
        "    test_loss += torch.mean(torch.abs(vt[vt>=0] - v[vt>=0]))\n",
        "    s +=1.\n",
        "print(\"test loss:\" +str(test_loss/s))"
      ],
      "execution_count": 82,
      "outputs": [
        {
          "output_type": "stream",
          "text": [
            "test loss:tensor(0.2304)\n"
          ],
          "name": "stdout"
        }
      ]
    },
    {
      "cell_type": "code",
      "metadata": {
        "id": "if2SEaeUs2aB"
      },
      "source": [
        "\"\"\"\n",
        "dataset source https://grouplens.org/datasets/movielens/\n",
        "dataset contains movies, users, ratings for more than 20k movies with 1000 of users\n",
        "We are buliding the boltzmann machine to understand the co-relaton between the inputs and extract the features out of it\n",
        "Here in this code we are initializing with the training and testing datasets and give random weights and weights to the input and hidden neurons and train them to minimize the loss\n",
        " \n",
        "\"\"\"\n"
      ],
      "execution_count": null,
      "outputs": []
    }
  ]
}